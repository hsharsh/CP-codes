{
 "cells": [
  {
   "cell_type": "code",
   "execution_count": 15,
   "metadata": {},
   "outputs": [],
   "source": [
    "import random\n",
    "import numpy"
   ]
  },
  {
   "cell_type": "code",
   "execution_count": 109,
   "metadata": {},
   "outputs": [
    {
     "name": "stdout",
     "output_type": "stream",
     "text": [
      "(2, 3, 4, 5, 1)\n",
      "(5, 4, 3, 2, 1)\n"
     ]
    }
   ],
   "source": [
    "n = 5\n",
    "k = 10000\n",
    "import itertools\n",
    "store = list(itertools.permutations([x+1 for x in range(n)]))\n",
    "count = [0 for i in range(len(store))]\n",
    "\n",
    "for iter in range(k):\n",
    "    a = [x+1 for x in range(n)]\n",
    "    for i in range(len(a)):\n",
    "        for j in range(len(a)):\n",
    "            x = random.randint(0,n-1)\n",
    "            a[i], a[x] = a[x], a[i]\n",
    "    if tuple(a) in store:\n",
    "        count[store.index(tuple(a))] = count[store.index(tuple(a))]+1\n",
    "\n",
    "ind = count.index(max(count))\n",
    "print(store[ind])\n",
    "ind = count.index(min(count))\n",
    "print(store[ind])"
   ]
  },
  {
   "cell_type": "code",
   "execution_count": null,
   "metadata": {},
   "outputs": [],
   "source": []
  }
 ],
 "metadata": {
  "kernelspec": {
   "display_name": "Python 3",
   "language": "python",
   "name": "python3"
  },
  "language_info": {
   "codemirror_mode": {
    "name": "ipython",
    "version": 3
   },
   "file_extension": ".py",
   "mimetype": "text/x-python",
   "name": "python",
   "nbconvert_exporter": "python",
   "pygments_lexer": "ipython3",
   "version": "3.6.4"
  }
 },
 "nbformat": 4,
 "nbformat_minor": 2
}
